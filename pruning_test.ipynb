{
 "cells": [
  {
   "cell_type": "code",
   "execution_count": 7,
   "id": "d39aabb7",
   "metadata": {},
   "outputs": [],
   "source": [
    "from dataclasses import dataclass\n",
    "import networkx as nx\n",
    "import re\n",
    "from itertools import combinations\n",
    "from collections import defaultdict\n",
    "from string import Template\n",
    "import re\n",
    "import psycopg2\n",
    "import hypernetx as hnx\n"
   ]
  },
  {
   "cell_type": "code",
   "execution_count": 8,
   "id": "0158aea2",
   "metadata": {},
   "outputs": [],
   "source": [
    "dc_violation_template=Template(\"SELECT t1.* FROM $table t1 WHERE EXISTS (SELECT t2.* FROM $table AS t2 WHERE ($dc_desc));\")\n",
    "ops = re.compile(r'IQ|EQ')   \n",
    "\n",
    "@dataclass\n",
    "class Complaint:\n",
    "\t\"\"\"\n",
    "\tcomplaint_type: \n",
    "\t\tDC or LF\n",
    "\tcomplaint_instance: \n",
    "\t\tif DC then should be cell attribute name\n",
    "\t\tif LF then should be sentence text\n",
    "\t\"\"\"\n",
    "\n",
    "\tcomplain_type:str \n",
    "\tattr_name:str='foo' # DC only\n",
    "\ttid:int=-1 # DC only\n",
    "        \n",
    "class RulePruner:\n",
    "    \"\"\"\n",
    "    Given a set of rules (DCs or LFs), and a usercomplaint\n",
    "    prune the input rules based on the following principle:\n",
    "        1.DCs: produce a graph where each edge represents\n",
    "        a pair of attributes appearing in the DC, prune out\n",
    "        DCs that are not connected to the attriute which is\n",
    "        the attribute that the complaint comes from\n",
    "        2.LFs: prune out LFs that gives the user complaint\n",
    "        trivial label (ABSTAINs) \n",
    "    \"\"\"\n",
    "\n",
    "    def __init__(self, ):\n",
    "        pass \n",
    "\n",
    "    def prune_and_return(self, complaint, rules):\n",
    "        if(complaint.complain_type=='DC'):\n",
    "            rule_graph = hnx.Hypergraph()\n",
    "            # undirected graph\n",
    "            rule_dict = {}\n",
    "            res=[]\n",
    "            nodes=set([])\n",
    "            i=0\n",
    "            for r in rules:\n",
    "                rule_nodes=set(re.findall(r't[12]\\.([-\\w]+)', r))\n",
    "            #         print(rule_nodes)\n",
    "                rule_dict[r]=rule_nodes\n",
    "            for k,v in rule_dict.items():\n",
    "                if(complaint.attr_name in v):\n",
    "                    res.append(k)\n",
    "                    nodes=nodes.union(v)\n",
    "            return len(res),res        \n",
    "# \t\t\trule_graph = nx.Graph()\n",
    "# \t\t\t# undirected graph\n",
    "# \t\t\trule_dict = {}\n",
    "# \t\t\tfor r in rules:\n",
    "# \t\t\t\trule_nodes=list(set(re.findall(r't[12]\\.(\\w+)', r)))\n",
    "# \t\t\t\trule_edges = list(combinations(rule_nodes, 2))\n",
    "# \t\t\t\trule_graph.add_edges_from(rule_edges)\n",
    "# \t\t\t\trule_dict[r]=rule_nodes\n",
    "# \t\t\tstart_node=complaint.attr_name\n",
    "# \t\t\tuseful_nodes=[start_node] + [v for u, v in nx.bfs_edges(rule_graph, start_node)]\n",
    "# \t\t\tset_useful_nodes=set(useful_nodes)\n",
    "# \t\t\tprint(f\"set_useful_nodes: {set_useful_nodes}\")\n",
    "# \t\t\tuseless_rules = [k for (k,v) in rule_dict.items() if not set(v).intersection(set_useful_nodes)]\n",
    "# \t\t\tprint(f'useless rules: {useless_rules}')\n",
    "# \t\t\treturn rule_graph, [k for (k,v) in rule_dict.items() if set(v).intersection(set_useful_nodes)]\n",
    "# \t\telse:\n",
    "# \t\t\tpass\n",
    "\n",
    "class DataPruner:\n",
    "\t\"\"\"\n",
    "\tGiven a set of rules, prune data(tuples/sentences) based on if \n",
    "\tthe data points have any effect on the rules\n",
    "\t\"\"\"\n",
    "\tdef __init__(self,):\n",
    "\t\tpass \n",
    "\n",
    "\tdef dc_prune_and_return(self, db_conn, target_table, pruned_rules):\n",
    "\t\tdrop_if_exist_q = f\"drop table if exists {target_table}_pruned\"\n",
    "\t\tdrop_if_exist_intermediate_q = f\"drop table if exists {target_table}_pruned_intermediate\"\n",
    "\t\tcreate_q=f\"create table {target_table}_pruned as select * from {target_table} limit 0\"\n",
    "\t\tcreate_intermediate_q=f\"create table {target_table}_pruned_intermediate as select * from {target_table} limit 0\"\n",
    "\t\tcur = db_conn.cursor()\n",
    "\t\tcur.execute(drop_if_exist_q)\n",
    "\t\tcur.execute(drop_if_exist_intermediate_q)\n",
    "\t\tcur.execute(create_q)\n",
    "\t\tcur.execute(create_intermediate_q)\n",
    "\t\tfor r in pruned_rules:\n",
    "\t\t\tr_q  = dc_violation_template.substitute(table=target_table, dc_desc=self.parse_rule_to_where_clause(r))\n",
    "\t\t\tcur.execute(f\"INSERT INTO {target_table}_pruned_intermediate {r_q}\")\n",
    "\t\t\tprint(f\"INSERT INTO {target_table}_pruned_intermediate {r_q}\")\n",
    "\t\tcur.execute(\"SELECT COLUMN_NAME from information_schema.columns WHERE table_schema = 'public' AND table_name = 'adult'\");\n",
    "\t\tcol_names = ', '.join([f'\"{x[0]}\"' for x in cur.fetchall()])\n",
    "\t\tq_insert_distinct = f\"\"\"\n",
    "\t\tWITH distincts AS (SELECT COUNT(*) AS cnt, {col_names} from {target_table}_pruned_intermediate\n",
    "\t\tGROUP BY {col_names}) INSERT INTO {target_table}_pruned SELECT {col_names} FROM distincts\n",
    "\t\t\"\"\"\n",
    "\t\tcur.execute(q_insert_distinct)\n",
    "\t\tq_cnt_pruned=f\"select count(*) from {target_table}_pruned\"\n",
    "\t\tq_cnt_before_pruned=f\"select count(*) from {target_table}\"\n",
    "\t\tcur.execute(q_cnt_before_pruned)\n",
    "\t\tcnt_before = cur.fetchone()[0]\n",
    "\t\tcur.execute(q_cnt_pruned)\n",
    "\t\tcnt_after = cur.fetchone()[0]\n",
    "\t\tprint(f\"before pruning data: {target_table} has {cnt_before} rows\")\n",
    "\t\tprint(f\"after pruning data: {target_table}_pruned has {cnt_after} rows\")\n",
    "\tdef lf_prune_and_return(self, ):\n",
    "\t\tpass\n",
    "\n",
    "\tdef parse_rule_to_where_clause(self, rule):\n",
    "\t\t# support EQ and IQ only so far\n",
    "\t\tres = []\n",
    "\t\tfor xl in rule.split('&'):\n",
    "\t\t\tif(ops.search(xl)):\n",
    "\t\t\t\tif(ops.search(xl).group()=='EQ'):\n",
    "\t\t\t\t\tsign='='\n",
    "\t\t\t\telse:\n",
    "\t\t\t\t\tsign='!='\n",
    "\t\t\t\tbracket_content = re.findall(r'\\((.*)\\)', xl)[0]\n",
    "\t\t\t\tres.append(sign.join(re.sub(r'(t[1|2]\\.)([-\\w]+)', r'\\1\"\\2\"', bracket_content).split(',')))\n",
    "\t\treturn ' AND '.join(res)\n"
   ]
  },
  {
   "cell_type": "code",
   "execution_count": 9,
   "id": "0be03470",
   "metadata": {},
   "outputs": [
    {
     "name": "stdout",
     "output_type": "stream",
     "text": [
      "before pruning: we have 4 rules \n",
      "after pruning: we have 1 rules \n"
     ]
    },
    {
     "data": {
      "text/plain": [
       "['t1&t2&IQ(t1.sex,t2.sex)&EQ(t1.hours-per-week,t2.hours-per-week)&IQ(t1.income,t2.income)']"
      ]
     },
     "execution_count": 9,
     "metadata": {},
     "output_type": "execute_result"
    }
   ],
   "source": [
    "test_rules_hospital=\"\"\"t1&t2&IQ(t1.native-country,t2.native-country)&EQ(t1.marital-status,t2.marital-status)&EQ(t1.workclass,t2.workclass)\n",
    "t1&t2&IQ(t1.race,t2.race)&EQ(t1.hours-per-week,t2.hours-per-week)&IQ(t1.income,t2.income)\n",
    "t1&t2&IQ(t1.race,t2.race)&IQ(t1.native-country,t2.native-country)&IQ(t1.income,t2.income)\n",
    "t1&t2&IQ(t1.sex,t2.sex)&EQ(t1.hours-per-week,t2.hours-per-week)&IQ(t1.income,t2.income)\"\"\"\n",
    "\n",
    "test_rules = test_rules_hospital.split('\\n')\n",
    "# print(test_rules)\n",
    "c=Complaint(complain_type='DC', attr_name='sex', tid=495)\n",
    "rp=RulePruner()\n",
    "res, res_rules = rp.prune_and_return(complaint=c,rules=test_rules)\n",
    "print(f\"before pruning: we have {len(test_rules)} rules \")\n",
    "print(f\"after pruning: we have {res} rules \")\n",
    "res_rules"
   ]
  },
  {
   "cell_type": "code",
   "execution_count": 10,
   "id": "278237f7",
   "metadata": {},
   "outputs": [],
   "source": [
    "conn = psycopg2.connect(dbname=\"holo\", user=\"holocleanuser\", password=\"abcd1234\")\n",
    "conn.autocommit=True"
   ]
  },
  {
   "cell_type": "code",
   "execution_count": 11,
   "id": "76d9c58a",
   "metadata": {},
   "outputs": [
    {
     "name": "stdout",
     "output_type": "stream",
     "text": [
      "INSERT INTO adult_pruned_intermediate SELECT t1.* FROM adult t1 WHERE EXISTS (SELECT t2.* FROM adult AS t2 WHERE (t1.\"sex\"!=t2.\"sex\" AND t1.\"hours-per-week\"=t2.\"hours-per-week\" AND t1.\"income\"!=t2.\"income\"));\n",
      "before pruning data: adult has 500 rows\n",
      "after pruning data: adult_pruned has 421 rows\n"
     ]
    }
   ],
   "source": [
    "dp=DataPruner()\n",
    "dp.dc_prune_and_return(db_conn=conn,target_table='adult',pruned_rules=res_rules)"
   ]
  },
  {
   "cell_type": "code",
   "execution_count": null,
   "id": "63fe713c",
   "metadata": {},
   "outputs": [],
   "source": []
  }
 ],
 "metadata": {
  "kernelspec": {
   "display_name": "Python 3 (ipykernel)",
   "language": "python",
   "name": "python3"
  },
  "language_info": {
   "codemirror_mode": {
    "name": "ipython",
    "version": 3
   },
   "file_extension": ".py",
   "mimetype": "text/x-python",
   "name": "python",
   "nbconvert_exporter": "python",
   "pygments_lexer": "ipython3",
   "version": "3.8.0"
  }
 },
 "nbformat": 4,
 "nbformat_minor": 5
}
